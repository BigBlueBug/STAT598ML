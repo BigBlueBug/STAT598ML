{
 "cells": [
  {
   "cell_type": "code",
   "execution_count": 7,
   "metadata": {},
   "outputs": [],
   "source": [
    "from sympy import * "
   ]
  },
  {
   "cell_type": "code",
   "execution_count": 2,
   "metadata": {},
   "outputs": [
    {
     "name": "stdout",
     "output_type": "stream",
     "text": [
      "Eq(x(t), C1*exp(-t) + 1)\n"
     ]
    }
   ],
   "source": [
    "#A simple system\n",
    "t = symbols('t')\n",
    "x = symbols('x', cls=Function)\n",
    "deqn1 = Eq(x(t).diff(t), 1 - x(t))\n",
    "sol1 = dsolve(deqn1, x(t))\n",
    "print(sol1)"
   ]
  },
  {
   "cell_type": "code",
   "execution_count": 3,
   "metadata": {},
   "outputs": [
    {
     "name": "stdout",
     "output_type": "stream",
     "text": [
      "x/sqrt(x**2 + 5)\n"
     ]
    },
    {
     "data": {
      "text/latex": [
       "$\\displaystyle e^{x} \\sin{\\left(x \\right)} + e^{x} \\cos{\\left(x \\right)}$"
      ],
      "text/plain": [
       "exp(x)*sin(x) + exp(x)*cos(x)"
      ]
     },
     "execution_count": 3,
     "metadata": {},
     "output_type": "execute_result"
    }
   ],
   "source": [
    "#Differentiation\n",
    "x = symbols('x')\n",
    "print(diff(sqrt(x**2+5),x))\n",
    "diff(sin(x)*exp(x),x)"
   ]
  },
  {
   "cell_type": "code",
   "execution_count": 4,
   "metadata": {},
   "outputs": [
    {
     "data": {
      "text/latex": [
       "$\\displaystyle \\frac{g^{3}}{3} + 2 g$"
      ],
      "text/plain": [
       "g**3/3 + 2*g"
      ]
     },
     "execution_count": 4,
     "metadata": {},
     "output_type": "execute_result"
    }
   ],
   "source": [
    "#Integration\n",
    "g = symbols('g')\n",
    "integrate(g**2+2,g)"
   ]
  },
  {
   "cell_type": "code",
   "execution_count": 6,
   "metadata": {},
   "outputs": [
    {
     "data": {
      "text/latex": [
       "$\\displaystyle y{\\left(t \\right)} = C_{2} e^{- t} + \\left(C_{1} + \\frac{t}{2}\\right) e^{t}$"
      ],
      "text/plain": [
       "Eq(y(t), C2*exp(-t) + (C1 + t/2)*exp(t))"
      ]
     },
     "execution_count": 6,
     "metadata": {},
     "output_type": "execute_result"
    }
   ],
   "source": [
    "#Differential Equations (ODEs)\n",
    "y = Function('y')\n",
    "dsolve(Eq(y(t).diff(t,t)-y(t),exp(t)),y(t))"
   ]
  },
  {
   "cell_type": "code",
   "execution_count": 32,
   "metadata": {},
   "outputs": [
    {
     "name": "stdout",
     "output_type": "stream",
     "text": [
      "1\n"
     ]
    },
    {
     "data": {
      "text/latex": [
       "$\\displaystyle \\lim_{x \\to 0^+}\\left(\\frac{\\sin{\\left(x \\right)}}{x}\\right)$"
      ],
      "text/plain": [
       "Limit(sin(x)/x, x, 0)"
      ]
     },
     "execution_count": 32,
     "metadata": {},
     "output_type": "execute_result"
    }
   ],
   "source": [
    "#Limits\n",
    "x = symbols('x')\n",
    "print(limit(sin(x)/x,x,0))\n",
    "Limit(sin(x)/x,x,0)\n"
   ]
  },
  {
   "cell_type": "code",
   "execution_count": 17,
   "metadata": {},
   "outputs": [
    {
     "data": {
      "text/latex": [
       "$\\displaystyle 2 x \\sqrt{\\frac{1}{x}}$"
      ],
      "text/plain": [
       "2*x*sqrt(1/x)"
      ]
     },
     "execution_count": 17,
     "metadata": {},
     "output_type": "execute_result"
    }
   ],
   "source": [
    "x = symbols('x')\n",
    "f = Integral(sqrt(1/x),x)\n",
    "f.doit()"
   ]
  },
  {
   "cell_type": "code",
   "execution_count": 20,
   "metadata": {},
   "outputs": [
    {
     "name": "stdout",
     "output_type": "stream",
     "text": [
      "     ⎛ 2⎞\n",
      "     ⎝x ⎠\n",
      "2⋅x⋅ℯ    \n"
     ]
    },
    {
     "data": {
      "text/latex": [
       "$\\displaystyle \\frac{\\sqrt{\\pi} \\operatorname{erfi}{\\left(x \\right)}}{2}$"
      ],
      "text/plain": [
       "sqrt(pi)*erfi(x)/2"
      ]
     },
     "execution_count": 20,
     "metadata": {},
     "output_type": "execute_result"
    }
   ],
   "source": [
    "pprint(diff(exp(x**2),x))\n",
    "integrate(exp(x**2),x)"
   ]
  },
  {
   "cell_type": "code",
   "execution_count": 26,
   "metadata": {},
   "outputs": [
    {
     "data": {
      "text/latex": [
       "$\\displaystyle \\iint e^{- x^{2} - y^{2}}\\, dx\\, dy$"
      ],
      "text/plain": [
       "Integral(exp(-x**2 - y**2), x, y)"
      ]
     },
     "execution_count": 26,
     "metadata": {},
     "output_type": "execute_result"
    }
   ],
   "source": [
    "##double integral\n",
    "x,y = symbols('x y')\n",
    "q = Integral(exp(-x**2-y**2),x,y)\n",
    "q"
   ]
  }
 ],
 "metadata": {
  "kernelspec": {
   "display_name": "Python 3",
   "language": "python",
   "name": "python3"
  },
  "language_info": {
   "codemirror_mode": {
    "name": "ipython",
    "version": 3
   },
   "file_extension": ".py",
   "mimetype": "text/x-python",
   "name": "python",
   "nbconvert_exporter": "python",
   "pygments_lexer": "ipython3",
   "version": "3.8.10"
  },
  "orig_nbformat": 4
 },
 "nbformat": 4,
 "nbformat_minor": 2
}
